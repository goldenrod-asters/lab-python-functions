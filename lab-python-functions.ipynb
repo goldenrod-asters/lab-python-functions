{
 "cells": [
  {
   "cell_type": "markdown",
   "id": "25d7736c-ba17-4aff-b6bb-66eba20fbf4e",
   "metadata": {},
   "source": [
    "# Lab | Functions"
   ]
  },
  {
   "cell_type": "markdown",
   "id": "0c581062-8967-4d93-b06e-62833222f930",
   "metadata": {
    "tags": []
   },
   "source": [
    "## Exercise: Managing Customer Orders with Functions\n",
    "\n",
    "In the previous exercise, you improved the code for managing customer orders by using loops and flow control. Now, let's take it a step further and refactor the code by introducing functions.\n",
    "\n",
    "Follow the steps below to complete the exercise:\n",
    "\n",
    "1. Define a function named `initialize_inventory` that takes `products` as a parameter. Inside the function, implement the code for initializing the inventory dictionary using a loop and user input.\n",
    "\n",
    "2. Define a function named `get_customer_orders` that takes no parameters. Inside the function, implement the code for prompting the user to enter the product names using a loop. The function should return the `customer_orders` set.\n",
    "\n",
    "3. Define a function named `update_inventory` that takes `customer_orders` and `inventory` as parameters. Inside the function, implement the code for updating the inventory dictionary based on the customer orders.\n",
    "\n",
    "4. Define a function named `calculate_order_statistics` that takes `customer_orders` and `products` as parameters. Inside the function, implement the code for calculating the order statistics (total products ordered, and percentage of unique products ordered). The function should return these values.\n",
    "\n",
    "5. Define a function named `print_order_statistics` that takes `order_statistics` as a parameter. Inside the function, implement the code for printing the order statistics.\n",
    "\n",
    "6. Define a function named `print_updated_inventory` that takes `inventory` as a parameter. Inside the function, implement the code for printing the updated inventory.\n",
    "\n",
    "7. Call the functions in the appropriate sequence to execute the program and manage customer orders.\n",
    "\n",
    "Hints for functions:\n",
    "\n",
    "- Consider the input parameters required for each function and their return values.\n",
    "- Utilize function parameters and return values to transfer data between functions.\n",
    "- Test your functions individually to ensure they work correctly.\n",
    "\n",
    "\n"
   ]
  },
  {
   "cell_type": "code",
   "execution_count": 1,
   "id": "72c74c5f",
   "metadata": {},
   "outputs": [],
   "source": [
    "# 1\n",
    "products = [\"t-shirt\", \"mug\", \"hat\", \"book\", \"keychain\"]\n",
    "inventory = {}\n",
    "\n",
    "def initialize_inventory(products):\n",
    "    for i in products:\n",
    "        quant = int(input(f\"Enter the quantity available in inventory for {i}: \"))\n",
    "        inventory[i] = quant"
   ]
  },
  {
   "cell_type": "code",
   "execution_count": 2,
   "id": "ddfe4dcc",
   "metadata": {},
   "outputs": [],
   "source": [
    "# 2\n",
    "customer_orders = set()\n",
    "\n",
    "def get_customer_orders():\n",
    "    while True:\n",
    "        userinput = input(\"Enter the name of the product you would like to order: \").lower().strip()\n",
    "        while userinput not in products:\n",
    "            print(f\"That product does not exist in our catalogue.\")\n",
    "            userinput = input(\"Enter the name of the product you would like to order: \").lower().strip()\n",
    "        customer_orders.add(userinput)\n",
    "        continueorder = input(\"Would you like to add another product to your order? Enter Y or N: \").lower().strip()\n",
    "        if continueorder != 'y':\n",
    "            break\n",
    "    return customer_orders"
   ]
  },
  {
   "cell_type": "code",
   "execution_count": 3,
   "id": "cc025cce",
   "metadata": {},
   "outputs": [],
   "source": [
    "# 3\n",
    "def update_inventory(customer_orders,inventory):\n",
    "    for item in customer_orders:\n",
    "        if item in inventory and inventory[item] > 0:\n",
    "            inventory[item] -= 1\n",
    "        elif item in inventory and inventory[item] == 1:\n",
    "            inventory[item] -= 1\n",
    "            print(f\"Warning: Last {item} has been sold!\")\n",
    "        else:\n",
    "            print(f\"Error: {item} does not exist or is out of stock.\")"
   ]
  },
  {
   "cell_type": "code",
   "execution_count": 25,
   "id": "51c4febf",
   "metadata": {},
   "outputs": [],
   "source": [
    "# 4\n",
    "def calculate_order_statistics(customer_orders,products):\n",
    "    totalordered = len(customer_orders)\n",
    "    percordered = totalordered / sum(inventory.values()) * 100\n",
    "    return totalordered, percordered\n",
    "\n",
    "order_status = calculate_order_statistics(customer_orders,products)"
   ]
  },
  {
   "cell_type": "code",
   "execution_count": 38,
   "id": "39a11c56",
   "metadata": {},
   "outputs": [],
   "source": [
    "# 5 \n",
    "def print_order_statistics(order_status):\n",
    "    print(f\"Order Statistics: \")\n",
    "    print(f\"Total Products Ordered: {order_status[0]}\")\n",
    "    print(f\"Percentage of Products Ordered: {order_status[1]}%\")"
   ]
  },
  {
   "cell_type": "code",
   "execution_count": 39,
   "id": "ae3dfd63",
   "metadata": {},
   "outputs": [],
   "source": [
    "# 6 \n",
    "\n",
    "def print_updated_inventory(inventory):\n",
    "    print(f\"Updated inventory: \")\n",
    "    for product, quantity in inventory.items():\n",
    "        print(f\"{product}: {quantity}\")"
   ]
  },
  {
   "cell_type": "code",
   "execution_count": 7,
   "id": "77e46568",
   "metadata": {},
   "outputs": [
    {
     "name": "stdout",
     "output_type": "stream",
     "text": [
      "Enter the quantity available in inventory for t-shirt: 12\n",
      "Enter the quantity available in inventory for mug: 13\n",
      "Enter the quantity available in inventory for hat: 14\n",
      "Enter the quantity available in inventory for book: 15\n",
      "Enter the quantity available in inventory for keychain: 16\n"
     ]
    }
   ],
   "source": [
    "initialize_inventory(products)"
   ]
  },
  {
   "cell_type": "code",
   "execution_count": 8,
   "id": "64aa7338",
   "metadata": {},
   "outputs": [
    {
     "name": "stdout",
     "output_type": "stream",
     "text": [
      "Enter the name of the product you would like to order: hat\n",
      "Would you like to add another product to your order? Enter Y or N: Y\n",
      "Enter the name of the product you would like to order: book\n",
      "Would you like to add another product to your order? Enter Y or N: n\n"
     ]
    },
    {
     "data": {
      "text/plain": [
       "{'book', 'hat'}"
      ]
     },
     "execution_count": 8,
     "metadata": {},
     "output_type": "execute_result"
    }
   ],
   "source": [
    "get_customer_orders()"
   ]
  },
  {
   "cell_type": "code",
   "execution_count": 23,
   "id": "26c89b2b",
   "metadata": {},
   "outputs": [
    {
     "name": "stdout",
     "output_type": "stream",
     "text": [
      "{'hat', 'book'}\n",
      "{'t-shirt': 12, 'mug': 13, 'hat': 12, 'book': 13, 'keychain': 16}\n"
     ]
    }
   ],
   "source": [
    "print(customer_orders)\n",
    "update_inventory(customer_orders,inventory)\n",
    "print(inventory)"
   ]
  },
  {
   "cell_type": "code",
   "execution_count": 40,
   "id": "421358ef",
   "metadata": {},
   "outputs": [
    {
     "data": {
      "text/plain": [
       "(2, 3.0303030303030303)"
      ]
     },
     "execution_count": 40,
     "metadata": {},
     "output_type": "execute_result"
    }
   ],
   "source": [
    "calculate_order_statistics(customer_orders,products)"
   ]
  },
  {
   "cell_type": "code",
   "execution_count": 41,
   "id": "f8948405",
   "metadata": {},
   "outputs": [
    {
     "name": "stdout",
     "output_type": "stream",
     "text": [
      "Order Statistics: \n",
      "Total Products Ordered: 2\n",
      "Percentage of Products Ordered: 3.0303030303030303%\n"
     ]
    }
   ],
   "source": [
    "print_order_statistics(order_status)"
   ]
  },
  {
   "cell_type": "code",
   "execution_count": 42,
   "id": "9683d3f3",
   "metadata": {},
   "outputs": [
    {
     "name": "stdout",
     "output_type": "stream",
     "text": [
      "Updated inventory: \n",
      "t-shirt: 12\n",
      "mug: 13\n",
      "hat: 12\n",
      "book: 13\n",
      "keychain: 16\n"
     ]
    }
   ],
   "source": [
    "print_updated_inventory(inventory)"
   ]
  }
 ],
 "metadata": {
  "kernelspec": {
   "display_name": "Python 3 (ipykernel)",
   "language": "python",
   "name": "python3"
  },
  "language_info": {
   "codemirror_mode": {
    "name": "ipython",
    "version": 3
   },
   "file_extension": ".py",
   "mimetype": "text/x-python",
   "name": "python",
   "nbconvert_exporter": "python",
   "pygments_lexer": "ipython3",
   "version": "3.11.5"
  }
 },
 "nbformat": 4,
 "nbformat_minor": 5
}
